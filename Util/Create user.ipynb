{
 "cells": [
  {
   "cell_type": "code",
   "execution_count": 0,
   "metadata": {
    "application/vnd.databricks.v1+cell": {
     "cellMetadata": {
      "byteLimit": 2048000,
      "rowLimit": 10000
     },
     "inputWidgets": {},
     "nuid": "f54ced5a-acd7-4add-8305-3ac13b6e5543",
     "showTitle": true,
     "title": "Creating User Profiles with SCIM API Integration"
    }
   },
   "outputs": [],
   "source": [
    "def create_user(display_name,email):\n",
    "  import requests\n",
    "  import json\n",
    "  headers = {\"Authorization\": \"Bearer \" + dbutils.notebook.entry_point.getDbutils().notebook().getContext().apiToken().get()}\n",
    "  base_url = \"https://\" + dbutils.notebook.entry_point.getDbutils().notebook().getContext().browserHostName().get()\n",
    "  payload = {\n",
    "        \"schemas\": [\"urn:ietf:params:scim:schemas:core:2.0:User\"],\n",
    "        \"userName\": email,\n",
    "        \"displayName\": display_name,\n",
    "        \"active\": True\n",
    "  }\n",
    "  endpoint = f'/api/2.0/preview/scim/v2/Users'\n",
    "\n",
    "  # Make the API request\n",
    "  response = requests.post(base_url + endpoint, headers = headers, data=json.dumps(payload)).json()\n",
    "  return response"
   ]
  },
  {
   "cell_type": "code",
   "execution_count": 0,
   "metadata": {
    "application/vnd.databricks.v1+cell": {
     "cellMetadata": {
      "byteLimit": 2048000,
      "rowLimit": 10000
     },
     "inputWidgets": {},
     "nuid": "7f9e14d9-137e-45b5-b8c2-bf3be0d1c6e3",
     "showTitle": true,
     "title": "Adding User to Group with SCIM API in Python"
    }
   },
   "outputs": [],
   "source": [
    "def add_to_group(group_id,user_id):\n",
    "  import requests\n",
    "  import json\n",
    "  headers = {\"Authorization\": \"Bearer \" + dbutils.notebook.entry_point.getDbutils().notebook().getContext().apiToken().get()}\n",
    "  base_url = \"https://\" + dbutils.notebook.entry_point.getDbutils().notebook().getContext().browserHostName().get()\n",
    "  payload = {\n",
    "    \"schemas\": [\"urn:ietf:params:scim:api:messages:2.0:PatchOp\"],\n",
    "    \"Operations\": [\n",
    "        {\n",
    "            \"op\": \"add\",\n",
    "            \"path\": \"members\",\n",
    "            \"value\": [{\"value\": user_id}]\n",
    "        }\n",
    "    ]\n",
    "}\n",
    "  endpoint = f'/api/2.0/preview/scim/v2/Groups/{group_id}'\n",
    "\n",
    "  # Make the API request\n",
    "  response = requests.patch(base_url + endpoint, headers = headers, data=json.dumps(payload)).json()\n",
    "  return response"
   ]
  },
  {
   "cell_type": "code",
   "execution_count": 0,
   "metadata": {
    "application/vnd.databricks.v1+cell": {
     "cellMetadata": {
      "byteLimit": 2048000,
      "rowLimit": 10000
     },
     "inputWidgets": {},
     "nuid": "393374b3-ad97-4def-a3f1-c719c31c3618",
     "showTitle": false,
     "title": ""
    }
   },
   "outputs": [],
   "source": [
    "import os\n",
    "from pyspark.sql import DataFrame\n",
    "id_do_grupo=\"COLOCAR_AQUI_O_ID_DO_GRUPO\"\n",
    "# Get the list of files in the directory\n",
    "directory = \"/Volumes/jsf_catalog/ecommerce/jsf_vol_ecommerce\"\n",
    "file = os.listdir(directory)\n",
    "# Create a DataFrame from the file\n",
    "df = spark.read.format(\"csv\").option(\"header\", \"true\").load(os.path.join(directory, file))\n",
    "for rows in df.collect():\n",
    "  email=rows['email_aluno']\n",
    "  user_name=rows['nome_aluno']\n",
    "  new_user=create_user(\"nome_aluno\",\"email_aluno\")\n",
    "  user_id=new_user['id']\n",
    "  group_id=id_do_grupo\n",
    "  add_to_group(group_id,user_id)"
   ]
  }
 ],
 "metadata": {
  "application/vnd.databricks.v1+notebook": {
   "dashboards": [],
   "environmentMetadata": null,
   "language": "python",
   "notebookMetadata": {
    "pythonIndentUnit": 2
   },
   "notebookName": "Create user",
   "widgets": {}
  }
 },
 "nbformat": 4,
 "nbformat_minor": 0
}
