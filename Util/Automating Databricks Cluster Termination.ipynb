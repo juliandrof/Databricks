{
 "cells": [
  {
   "cell_type": "code",
   "execution_count": 0,
   "metadata": {
    "application/vnd.databricks.v1+cell": {
     "cellMetadata": {
      "byteLimit": 2048000,
      "rowLimit": 10000
     },
     "inputWidgets": {},
     "nuid": "886119bb-91c7-481b-9406-2c10542c2b6a",
     "showTitle": false,
     "title": ""
    }
   },
   "outputs": [
    {
     "output_type": "stream",
     "name": "stdout",
     "output_type": "stream",
     "text": [
      "\u001B[43mNote: you may need to restart the kernel using dbutils.library.restartPython() to use updated packages.\u001B[0m\n\u001B[43mNote: you may need to restart the kernel using dbutils.library.restartPython() to use updated packages.\u001B[0m\n"
     ]
    }
   ],
   "source": [
    "%pip install databricks-sdk --quiet --disable-pip-version-check\n",
    "dbutils.library.restartPython()"
   ]
  },
  {
   "cell_type": "code",
   "execution_count": 0,
   "metadata": {
    "application/vnd.databricks.v1+cell": {
     "cellMetadata": {
      "byteLimit": 2048000,
      "rowLimit": 10000
     },
     "inputWidgets": {},
     "nuid": "bcc41332-9ff7-48b8-b276-b9ab57fff448",
     "showTitle": false,
     "title": ""
    }
   },
   "outputs": [],
   "source": [
    "def get_cluster_id(cluster_name):\n",
    "  import requests\n",
    "  import json\n",
    "  headers = {\"Authorization\": \"Bearer \" + dbutils.notebook.entry_point.getDbutils().notebook().getContext().apiToken().get()}\n",
    "  base_url = \"https://\" + dbutils.notebook.entry_point.getDbutils().notebook().getContext().browserHostName().get()\n",
    "  endpoint = f'/api/2.0/clusters/list'\n",
    "\n",
    "  # Make the API request\n",
    "  response = requests.get(base_url+endpoint, headers=headers)\n",
    "  if response.status_code == 200:\n",
    "      clusters = response.json().get(\"clusters\", [])\n",
    "      for cluster in clusters:\n",
    "          if cluster.get(\"cluster_name\") == cluster_name:\n",
    "                return cluster.get(\"cluster_id\")"
   ]
  },
  {
   "cell_type": "code",
   "execution_count": 0,
   "metadata": {
    "application/vnd.databricks.v1+cell": {
     "cellMetadata": {
      "byteLimit": 2048000,
      "rowLimit": 10000
     },
     "inputWidgets": {},
     "nuid": "f6e682ee-aa44-48a9-9a79-414164af5a32",
     "showTitle": true,
     "title": "Shutdown Databricks Cluster"
    }
   },
   "outputs": [],
   "source": [
    "def terminate_cluster(cluster_id):\n",
    "  from databricks.sdk import WorkspaceClient\n",
    "  host = spark.conf.get(\"spark.databricks.workspaceUrl\")\n",
    "  token = dbutils.notebook.entry_point.getDbutils().notebook().getContext().apiToken().get()\n",
    "  cluster_id = cluster_id \n",
    "  #spark.conf.get(\"spark.databricks.clusterUsageTags.clusterId\")\n",
    "  w = WorkspaceClient(host=host, token=token)\n",
    "  w.clusters.delete(cluster_id) "
   ]
  },
  {
   "cell_type": "code",
   "execution_count": 0,
   "metadata": {
    "application/vnd.databricks.v1+cell": {
     "cellMetadata": {
      "byteLimit": 2048000,
      "rowLimit": 10000
     },
     "inputWidgets": {},
     "nuid": "f6e3f54b-c8f4-419d-af13-a7fe550deda6",
     "showTitle": true,
     "title": "Cluster Permission Removal"
    }
   },
   "outputs": [],
   "source": [
    "\n",
    "def remove_cluster_permissions(cluster_id):\n",
    "  import requests\n",
    "  import json\n",
    "  headers = {\"Authorization\": \"Bearer \" + dbutils.notebook.entry_point.getDbutils().notebook().getContext().apiToken().get()}\n",
    "  base_url = \"https://\" + dbutils.notebook.entry_point.getDbutils().notebook().getContext().browserHostName().get()\n",
    "  payload = {\n",
    "      \"access_control_list\": [\n",
    "      ]\n",
    "  }\n",
    "  endpoint = f'/api/2.0/permissions/clusters/{cluster_id}'\n",
    "\n",
    "  # Make the API request\n",
    "  response = requests.put(base_url + endpoint, headers = headers, data=json.dumps(payload))"
   ]
  },
  {
   "cell_type": "code",
   "execution_count": 0,
   "metadata": {
    "application/vnd.databricks.v1+cell": {
     "cellMetadata": {
      "byteLimit": 2048000,
      "rowLimit": 10000
     },
     "inputWidgets": {},
     "nuid": "d13e60e4-d96a-425e-8895-36666b88f766",
     "showTitle": true,
     "title": "Cluster Permissions Update"
    }
   },
   "outputs": [],
   "source": [
    "def set_cluster_permissions(cluster_id,group_name):\n",
    "  import requests\n",
    "  import json\n",
    "  headers = {\"Authorization\": \"Bearer \" + dbutils.notebook.entry_point.getDbutils().notebook().getContext().apiToken().get()}\n",
    "  base_url = \"https://\" + dbutils.notebook.entry_point.getDbutils().notebook().getContext().browserHostName().get()\n",
    "  payload = {\n",
    "      \"access_control_list\": [\n",
    "          {\n",
    "              \"group_name\": group_name,\n",
    "              \"permission_level\": \"CAN_ATTACH_TO\"\n",
    "          }\n",
    "      ]\n",
    "  }\n",
    "  endpoint = f'/api/2.0/permissions/clusters/{cluster_id}'\n",
    "\n",
    "  # Make the API request\n",
    "  response = requests.patch(base_url + endpoint, headers = headers, data=json.dumps(payload))\n",
    "  return response.json()"
   ]
  },
  {
   "cell_type": "code",
   "execution_count": 0,
   "metadata": {
    "application/vnd.databricks.v1+cell": {
     "cellMetadata": {
      "byteLimit": 2048000,
      "rowLimit": 10000
     },
     "inputWidgets": {},
     "nuid": "eb3e6a59-f95d-4392-89cc-0734eb917164",
     "showTitle": true,
     "title": "Retrieving Cluster Name with DBUtils in Python"
    }
   },
   "outputs": [],
   "source": [
    "cluster_name = dbutils.widgets.get(\"cluster_name\")\n"
   ]
  },
  {
   "cell_type": "code",
   "execution_count": 0,
   "metadata": {
    "application/vnd.databricks.v1+cell": {
     "cellMetadata": {
      "byteLimit": 2048000,
      "rowLimit": 10000
     },
     "inputWidgets": {},
     "nuid": "c2560d02-e4c9-46e9-b075-a36e57e92018",
     "showTitle": true,
     "title": "Retrieving Cluster Identifier by NameIdentifica o ID do cluster a partir do nome"
    }
   },
   "outputs": [],
   "source": [
    "cluster_id= get_cluster_id(cluster_name)"
   ]
  },
  {
   "cell_type": "code",
   "execution_count": 0,
   "metadata": {
    "application/vnd.databricks.v1+cell": {
     "cellMetadata": {
      "byteLimit": 2048000,
      "implicitDf": true,
      "rowLimit": 10000
     },
     "inputWidgets": {},
     "nuid": "449ebbb3-437d-44f8-a68f-c45eef9fb295",
     "showTitle": true,
     "title": "Monthly Usage by Cluster"
    }
   },
   "outputs": [],
   "source": [
    "\n",
    "df = spark.sql(f'''\n",
    "select\n",
    "  SUM(lp.pricing.`default` * uso.usage_quantity) as consumo_atual\n",
    "from\n",
    "  system.billing.usage uso\n",
    "  left join system.billing.list_prices lp on lp.sku_name = uso.sku_name and lp.price_end_time is NULL\n",
    "  left join (\n",
    "    select\n",
    "      row_number() OVER (partition by cluster_id ORDER BY change_time desc) as row_number,\n",
    "      cluster_id,\n",
    "      cluster_name\n",
    "    from\n",
    "      system.compute.clusters\n",
    "    order by\n",
    "      cluster_id\n",
    "  ) cl on cl.cluster_id = uso.usage_metadata.cluster_id and cl.row_number = 1\n",
    "where\n",
    "  true\n",
    "  and cl.cluster_name = '{cluster_name}'\n",
    "  /*and date_trunc(\"month\", uso.usage_end_time)>= date_trunc(\"month\", current_timestamp()) - interval '6 month'*/\n",
    "  and date_trunc(\"month\", uso.usage_end_time)>= date_trunc(\"month\", current_timestamp()) \n",
    "group by\n",
    "  all\n",
    "''')\n",
    "\n"
   ]
  },
  {
   "cell_type": "code",
   "execution_count": 0,
   "metadata": {
    "application/vnd.databricks.v1+cell": {
     "cellMetadata": {
      "byteLimit": 2048000,
      "rowLimit": 10000
     },
     "inputWidgets": {},
     "nuid": "b315c202-7af3-4827-8888-293b29ba64b3",
     "showTitle": true,
     "title": "Cluster Consumption and Shutdown"
    }
   },
   "outputs": [
    {
     "output_type": "stream",
     "name": "stdout",
     "output_type": "stream",
     "text": [
      "The montlhy usage is 4.916481 and the threshold is 100. Terminate = False\n"
     ]
    }
   ],
   "source": [
    "threshold=dbutils.widgets.get(\"limite_mensal\")\n",
    "usage = df.collect()[0][0]\n",
    "#Se o consumo do mês corrente for maior que o parâmetro limite_mensal, o cluster deve ser desligado\n",
    "terminate = True if usage > float(threshold) else False\n",
    "\n",
    "print(f\"The montlhy usage is {usage} and the threshold is {threshold}. Terminate = {terminate}\")"
   ]
  },
  {
   "cell_type": "code",
   "execution_count": 0,
   "metadata": {
    "application/vnd.databricks.v1+cell": {
     "cellMetadata": {
      "byteLimit": 2048000,
      "rowLimit": 10000
     },
     "inputWidgets": {},
     "nuid": "04190246-cb46-4c82-ae6c-4435bc2b9f9c",
     "showTitle": true,
     "title": "Cluster Management Utility"
    }
   },
   "outputs": [
    {
     "output_type": "stream",
     "name": "stdout",
     "output_type": "stream",
     "text": [
      "Usage is under the limit\n"
     ]
    }
   ],
   "source": [
    "if terminate:\n",
    "    print(\"Cluster terminated\")\n",
    "    remove_cluster_permissions(cluster_id)\n",
    "    set_cluster_permissions(cluster_id,\"professores\")\n",
    "    terminate_cluster(cluster_id)\n",
    "elif not terminate:\n",
    "    print(\"Usage is under the limit\")"
   ]
  }
 ],
 "metadata": {
  "application/vnd.databricks.v1+notebook": {
   "dashboards": [],
   "environmentMetadata": null,
   "language": "python",
   "notebookMetadata": {
    "mostRecentlyExecutedCommandWithImplicitDF": {
     "commandId": 4320825364249487,
     "dataframes": [
      "_sqldf"
     ]
    },
    "pythonIndentUnit": 2
   },
   "notebookName": "Automating Databricks Cluster Termination",
   "widgets": {
    "cluster_name": {
     "currentValue": "dbdemos-llm-rag-chatbot-juliandro_figueiro",
     "nuid": "36c9079c-688e-4762-821b-9f0e40171cb8",
     "typedWidgetInfo": {
      "autoCreated": false,
      "defaultValue": "",
      "label": "",
      "name": "cluster_name",
      "options": {
       "widgetDisplayType": "Text",
       "validationRegex": null
      },
      "parameterDataType": "String"
     },
     "widgetInfo": {
      "widgetType": "text",
      "defaultValue": "",
      "label": "",
      "name": "cluster_name",
      "options": {
       "widgetType": "text",
       "autoCreated": false,
       "validationRegex": null
      }
     }
    },
    "limite_mensal": {
     "currentValue": "100",
     "nuid": "0ab832e0-56ee-46a8-9baa-4ba26a4e52eb",
     "typedWidgetInfo": {
      "autoCreated": false,
      "defaultValue": "",
      "label": "",
      "name": "limite_mensal",
      "options": {
       "widgetDisplayType": "Text",
       "validationRegex": null
      },
      "parameterDataType": "String"
     },
     "widgetInfo": {
      "widgetType": "text",
      "defaultValue": "",
      "label": "",
      "name": "limite_mensal",
      "options": {
       "widgetType": "text",
       "autoCreated": false,
       "validationRegex": null
      }
     }
    }
   }
  }
 },
 "nbformat": 4,
 "nbformat_minor": 0
}
