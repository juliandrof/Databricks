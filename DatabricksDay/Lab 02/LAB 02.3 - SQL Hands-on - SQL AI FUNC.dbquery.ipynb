{
 "cells": [
  {
   "cell_type": "code",
   "execution_count": 0,
   "metadata": {
    "application/vnd.databricks.v1+cell": {
     "cellMetadata": {
      "byteLimit": 10485760,
      "rowLimit": 64000
     },
     "inputWidgets": {},
     "nuid": "21773588-f777-4d51-8a59-08819fc1330a",
     "showTitle": false,
     "tableResultSettingsMap": {},
     "title": ""
    }
   },
   "outputs": [],
   "source": [
    "SELECT ai_analyze_sentiment('Eu estou feliz');\n",
    "SELECT ai_analyze_sentiment('Eu estou triste');\n",
    "\n",
    "SELECT ai_classify(\"My password is leaked.\", ARRAY(\"urgent\", \"not urgent\"));\n",
    "\n",
    "\n",
    "SELECT ai_extract(\n",
    "    'John Doe lives in New York and works for Acme Corp.',\n",
    "    array('person', 'location', 'organization')\n",
    "  );\n",
    "\n",
    "\n",
    "SELECT ai_fix_grammar('Esta frase tem alguns erro');\n",
    "\n",
    "SELECT ai_gen('e-mail para pedir aumento. note: em pt-br');\n",
    "\n",
    "SELECT ai_mask(\n",
    "    'John Doe lives in New York. His email is john.doe@example.com.',\n",
    "    array('person', 'email')\n",
    "  );\n",
    "\n",
    "SELECT ai_similarity('Apache Spark', 'Apache Spark')\n",
    "\n",
    "SELECT ai_summarize(\n",
    "    'Apache Spark is a unified analytics engine for large-scale data processing. ' ||\n",
    "    'It provides high-level APIs in Java, Scala, Python and R, and an optimized ' ||\n",
    "    'engine that supports general execution graphs. It also supports a rich set ' ||\n",
    "    'of higher-level tools including Spark SQL for SQL and structured data ' ||\n",
    "    'processing, pandas API on Spark for pandas workloads, MLlib for machine ' ||\n",
    "    'learning, GraphX for graph processing, and Structured Streaming for incremental ' ||\n",
    "    'computation and stream processing.',\n",
    "    50\n",
    "  )\n",
    "\n",
    "SELECT ai_translate('Hello, how are you?', 'pt-br')\n",
    "\n",
    "\n"
   ]
  }
 ],
 "metadata": {
  "application/vnd.databricks.v1+notebook": {
   "computePreferences": null,
   "dashboards": [],
   "environmentMetadata": null,
   "inputWidgetPreferences": null,
   "language": "sql",
   "notebookMetadata": {
    "pythonIndentUnit": 2,
    "sqlQueryOptions": {
     "applyAutoLimit": false,
     "catalog": "users",
     "schema": "_data_classification"
    }
   },
   "notebookName": "LAB 02.3 - SQL Hands-on - SQL AI FUNC.dbquery.ipynb",
   "widgets": {}
  },
  "language_info": {
   "name": "sql"
  }
 },
 "nbformat": 4,
 "nbformat_minor": 0
}
