{
 "cells": [
  {
   "cell_type": "markdown",
   "metadata": {
    "application/vnd.databricks.v1+cell": {
     "cellMetadata": {},
     "inputWidgets": {},
     "nuid": "4bae24bb-d922-4847-bfdf-5995b68a5fb8",
     "showTitle": false,
     "tableResultSettingsMap": {},
     "title": ""
    }
   },
   "source": [
    "# Lab 02 - SQL no Databricks"
   ]
  },
  {
   "cell_type": "code",
   "execution_count": 0,
   "metadata": {
    "application/vnd.databricks.v1+cell": {
     "cellMetadata": {
      "byteLimit": 2048000,
      "rowLimit": 10000
     },
     "inputWidgets": {},
     "nuid": "6ee941b7-13af-426a-8212-72390d7950a6",
     "showTitle": false,
     "tableResultSettingsMap": {},
     "title": ""
    }
   },
   "outputs": [],
   "source": [
    "-- Exercício 01 Visualizando o Histórico de Atualizações da tabela\n",
    "  DESCRIBE HISTORY databricks_day.jsf_unimed.vaccinations_income_level_gold\n"
   ]
  },
  {
   "cell_type": "code",
   "execution_count": 0,
   "metadata": {
    "application/vnd.databricks.v1+cell": {
     "cellMetadata": {
      "byteLimit": 2048000,
      "rowLimit": 10000
     },
     "inputWidgets": {},
     "nuid": "7e20e2e5-9ee8-4b29-8b7c-261226cba648",
     "showTitle": false,
     "tableResultSettingsMap": {},
     "title": ""
    }
   },
   "outputs": [],
   "source": [
    "-- Exercício 02 - Visualizando o conteúdo da tabela na versão anterior (TIME TRAVEL)\n",
    "-- TO DO: Troque o X, pela versão antes do DELETE\n",
    "  SELECT count(1) FROM databricks_day.jsf_unimed.vaccinations_income_level_gold VERSION AS OF 1\n",
    "--19982\n",
    "--5050\n"
   ]
  },
  {
   "cell_type": "code",
   "execution_count": 0,
   "metadata": {
    "application/vnd.databricks.v1+cell": {
     "cellMetadata": {
      "byteLimit": 2048000,
      "rowLimit": 10000
     },
     "inputWidgets": {},
     "nuid": "cbfaffdd-1698-456f-9329-07fc522017c9",
     "showTitle": true,
     "tableResultSettingsMap": {},
     "title": "ALTER TABLE to Update TBLPROPERTIES"
    }
   },
   "outputs": [],
   "source": [
    "-- Aqui, iremos voltar o columnMapping.mode para none, para termos compatibilidade com a feature TIME Travel\n",
    "ALTER TABLE databricks_day.jsf_unimed.vaccinations_income_level_gold \n",
    "SET TBLPROPERTIES (\n",
    "       'delta.columnMapping.mode' = 'none'\n",
    ");"
   ]
  },
  {
   "cell_type": "code",
   "execution_count": 0,
   "metadata": {
    "application/vnd.databricks.v1+cell": {
     "cellMetadata": {
      "byteLimit": 2048000,
      "rowLimit": 10000
     },
     "inputWidgets": {},
     "nuid": "2a4d970f-6fa8-461f-9315-f290e1b4d09d",
     "showTitle": false,
     "tableResultSettingsMap": {},
     "title": ""
    }
   },
   "outputs": [],
   "source": [
    "-- Exercício 03 - RESTAURANDO o conteúdo da tabela na versão anterior (TIME TRAVEL)\n",
    "-- TO DO: Troque o X, pela versão antes do DELETE\n",
    "  RESTORE TABLE databricks_day.jsf_unimed.vaccinations_income_level_gold TO VERSION AS OF 0 \n"
   ]
  },
  {
   "cell_type": "code",
   "execution_count": 0,
   "metadata": {
    "application/vnd.databricks.v1+cell": {
     "cellMetadata": {
      "byteLimit": 2048000,
      "rowLimit": 10000
     },
     "inputWidgets": {},
     "nuid": "33ff8aff-9b97-4e96-a804-c82eb7d2b153",
     "showTitle": false,
     "tableResultSettingsMap": {},
     "title": ""
    }
   },
   "outputs": [],
   "source": [
    "-- TO DO: Faça um select * na tabela, repare que o nome da coluna income_level voltou a ser country!\n",
    "\n",
    "select * from databricks_day.jsf_unimed.vaccinations_income_level_gold\n"
   ]
  },
  {
   "cell_type": "code",
   "execution_count": 0,
   "metadata": {
    "application/vnd.databricks.v1+cell": {
     "cellMetadata": {
      "byteLimit": 2048000,
      "rowLimit": 10000
     },
     "inputWidgets": {},
     "nuid": "f85175f9-188a-474b-8fe9-91576b5981e0",
     "showTitle": false,
     "tableResultSettingsMap": {},
     "title": ""
    }
   },
   "outputs": [],
   "source": [
    "-- TO DO: Veja o histórico das versões da tabela, você notará que temos novas versões.\n",
    "describe history databricks_day.jsf_unimed.vaccinations_income_level_gold\n"
   ]
  },
  {
   "cell_type": "code",
   "execution_count": 0,
   "metadata": {
    "application/vnd.databricks.v1+cell": {
     "cellMetadata": {
      "byteLimit": 2048000,
      "rowLimit": 10000
     },
     "inputWidgets": {},
     "nuid": "f0950f6f-57f6-4320-b3a7-370f711099c5",
     "showTitle": false,
     "tableResultSettingsMap": {},
     "title": ""
    }
   },
   "outputs": [],
   "source": [
    "-- Aqui, iremos voltar o columnMapping.mode para name, para termos compatibilidade com a feature TIME TRAVEL\n",
    "ALTER TABLE databricks_day.jsf_unimed.vaccinations_income_level_gold \n",
    "SET TBLPROPERTIES (\n",
    "       'delta.columnMapping.mode' = 'name'\n",
    ");"
   ]
  },
  {
   "cell_type": "code",
   "execution_count": 0,
   "metadata": {
    "application/vnd.databricks.v1+cell": {
     "cellMetadata": {
      "byteLimit": 2048000,
      "rowLimit": 10000
     },
     "inputWidgets": {},
     "nuid": "e550be49-4202-429a-857a-a994eec20879",
     "showTitle": false,
     "tableResultSettingsMap": {},
     "title": ""
    }
   },
   "outputs": [],
   "source": [
    "-- TO DO: Restaure a versão para a versão anterior ao \"REMOVE COLUMN MAPPING\"\n",
    "  RESTORE TABLE databricks_day.jsf_unimed.vaccinations_income_level_gold TO VERSION AS OF 5"
   ]
  },
  {
   "cell_type": "code",
   "execution_count": 0,
   "metadata": {
    "application/vnd.databricks.v1+cell": {
     "cellMetadata": {
      "byteLimit": 2048000,
      "rowLimit": 10000
     },
     "inputWidgets": {},
     "nuid": "eb27ca09-46ee-4ddf-9fd1-7dd446205e0c",
     "showTitle": false,
     "tableResultSettingsMap": {},
     "title": ""
    }
   },
   "outputs": [],
   "source": [
    "-- TO DO: Faça um select * na tabela, repare que o nome da coluna country voltou a ser income_level \n",
    "select * from databricks_day.jsf_unimed.vaccinations_income_level_gold"
   ]
  },
  {
   "cell_type": "code",
   "execution_count": 0,
   "metadata": {
    "application/vnd.databricks.v1+cell": {
     "cellMetadata": {
      "byteLimit": 2048000,
      "rowLimit": 10000
     },
     "inputWidgets": {},
     "nuid": "aa3c620d-6d2d-4e4e-9f4d-8eee28325cfb",
     "showTitle": false,
     "tableResultSettingsMap": {},
     "title": ""
    }
   },
   "outputs": [],
   "source": [
    "-- Exercício 04 - Visualizando as propriedades da Tabela\n",
    "  DESCRIBE DETAIL databricks_day.jsf.vaccinations_income_level_gold\n",
    "  \n"
   ]
  },
  {
   "cell_type": "code",
   "execution_count": 0,
   "metadata": {
    "application/vnd.databricks.v1+cell": {
     "cellMetadata": {
      "byteLimit": 2048000,
      "rowLimit": 10000
     },
     "inputWidgets": {},
     "nuid": "02385f06-f228-492a-969f-0fb5655ed909",
     "showTitle": false,
     "tableResultSettingsMap": {},
     "title": ""
    }
   },
   "outputs": [],
   "source": [
    "-- Exercício 05 - Visualizando as informações DETALHADAS da Tabela\n",
    "  DESCRIBE TABLE EXTENDED databricks_day.jsf_unimed.vaccinations_income_level_gold"
   ]
  }
 ],
 "metadata": {
  "application/vnd.databricks.v1+notebook": {
   "computePreferences": null,
   "dashboards": [],
   "environmentMetadata": {
    "base_environment": "",
    "environment_version": "2"
   },
   "inputWidgetPreferences": null,
   "language": "sql",
   "notebookMetadata": {
    "pythonIndentUnit": 2
   },
   "notebookName": "LAB 02.1 - SQL",
   "widgets": {}
  },
  "language_info": {
   "name": "sql"
  }
 },
 "nbformat": 4,
 "nbformat_minor": 0
}
