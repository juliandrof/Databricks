{
 "cells": [
  {
   "cell_type": "code",
   "execution_count": 0,
   "metadata": {
    "application/vnd.databricks.v1+cell": {
     "cellMetadata": {
      "byteLimit": 10485760,
      "rowLimit": 1000
     },
     "inputWidgets": {},
     "nuid": "b2015248-fe0f-48cc-b923-317774781392",
     "showTitle": false,
     "tableResultSettingsMap": {},
     "title": ""
    }
   },
   "outputs": [],
   "source": [
    "-- Verificando o layout físico das suas tabelas\n",
    "SELECT count(*) as rows, file_path, file_size / 1024 / 1024 as file_size_mb \n",
    "FROM (SELECT *, _metadata.file_path, _metadata.file_size \n",
    "      FROM databricks_day.jsf.vaccinations_silver) \n",
    "GROUP BY file_path, file_size / 1024 / 1024\n",
    "\n",
    "\n",
    "\n",
    "--![alt text](https://raw.githubusercontent.com/Databricks-BR/lab_sql/main/images/header_handson_sql.png)"
   ]
  }
 ],
 "metadata": {
  "application/vnd.databricks.v1+notebook": {
   "computePreferences": null,
   "dashboards": [],
   "environmentMetadata": null,
   "inputWidgetPreferences": null,
   "language": "sql",
   "notebookMetadata": {
    "pythonIndentUnit": 2,
    "sqlQueryOptions": {
     "applyAutoLimit": true,
     "catalog": "users",
     "schema": "_data_classification"
    }
   },
   "notebookName": "LAB 02.2 - SQL.dbquery.ipynb",
   "widgets": {}
  },
  "language_info": {
   "name": "sql"
  }
 },
 "nbformat": 4,
 "nbformat_minor": 0
}
