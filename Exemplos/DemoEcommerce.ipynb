{
 "cells": [
  {
   "cell_type": "code",
   "execution_count": 0,
   "metadata": {
    "application/vnd.databricks.v1+cell": {
     "cellMetadata": {
      "byteLimit": 2048000,
      "rowLimit": 10000
     },
     "inputWidgets": {},
     "nuid": "ea0f2771-891b-4c02-ad37-330c9507e603",
     "showTitle": false,
     "title": ""
    }
   },
   "outputs": [],
   "source": [
    "#para cada arquivo existente no diretorio /Volumes/jsf_catalog/ecommerce/jsf_vol_ecommerce, crie um df. Em seguida, crie uma delta table baseado neste DF. As tabelas não devem ter DF_ nas suas nomenclaturas, nem o prefixo olist_, nem a extensão do arquivo. As tabelas devem ser criadas em jsf_catalog.ecommerce"
   ]
  },
  {
   "cell_type": "code",
   "execution_count": 0,
   "metadata": {
    "application/vnd.databricks.v1+cell": {
     "cellMetadata": {
      "byteLimit": 2048000,
      "rowLimit": 10000
     },
     "inputWidgets": {},
     "nuid": "dbe483ef-f3fe-4873-b24e-ea09e37bff37",
     "showTitle": true,
     "title": "Create Delta Tables from Directory"
    }
   },
   "outputs": [],
   "source": [
    "import os\n",
    "from pyspark.sql import SparkSession\n",
    "\n",
    "# Set directory path\n",
    "directory_path = \"/Volumes/jsf_catalog/ecommerce/jsf_vol_ecommerce\"\n",
    "\n",
    "# Create SparkSession\n",
    "spark = SparkSession.builder.getOrCreate()\n",
    "\n",
    "# Loop through the files in the directory\n",
    "for file_name in os.listdir(directory_path):\n",
    "    if file_name.startswith(\"olist_\"):  # Check if the file starts with \"olist_\"\n",
    "        # Create DataFrame with the file contents\n",
    "        df = spark.read.format(\"csv\").option(\"header\", \"true\").option(\"inferSchema\", \"true\").load(os.path.join(directory_path, file_name))\n",
    "        \n",
    "        # Get table name by removing the prefix \"olist_\" and the file extension\n",
    "        table_name = file_name.replace(\"olist_\", \"\").split('.')[0]\n",
    "        table_name = table_name.replace(\"_dataset\",\"\")+\"_bronze\"\n",
    "    \n",
    "        # Create a Delta table with the DataFrame data\n",
    "        df.write.format(\"delta\").mode(\"overwrite\").saveAsTable(f\"jsf_catalog.ecommerce.{table_name}\")"
   ]
  },
  {
   "cell_type": "code",
   "execution_count": 0,
   "metadata": {
    "application/vnd.databricks.v1+cell": {
     "cellMetadata": {
      "byteLimit": 2048000,
      "implicitDf": true,
      "rowLimit": 10000
     },
     "inputWidgets": {},
     "nuid": "d1e6a095-f47d-4aba-af57-7e3648076d36",
     "showTitle": false,
     "title": ""
    }
   },
   "outputs": [
    {
     "output_type": "display_data",
     "data": {
      "text/html": [
       "<style scoped>\n",
       "  .table-result-container {\n",
       "    max-height: 300px;\n",
       "    overflow: auto;\n",
       "  }\n",
       "  table, th, td {\n",
       "    border: 1px solid black;\n",
       "    border-collapse: collapse;\n",
       "  }\n",
       "  th, td {\n",
       "    padding: 5px;\n",
       "  }\n",
       "  th {\n",
       "    text-align: left;\n",
       "  }\n",
       "</style><div class='table-result-container'><table class='table-result'><thead style='background-color: white'><tr><th>num_affected_rows</th><th>num_inserted_rows</th></tr></thead><tbody></tbody></table></div>"
      ]
     },
     "metadata": {
      "application/vnd.databricks.v1+output": {
       "addedWidgets": {},
       "aggData": [],
       "aggError": "",
       "aggOverflow": false,
       "aggSchema": [],
       "aggSeriesLimitReached": false,
       "aggType": "",
       "arguments": {},
       "columnCustomDisplayInfos": {},
       "data": [],
       "datasetInfos": [],
       "dbfsResultPath": null,
       "isJsonSchema": true,
       "metadata": {},
       "overflow": false,
       "plotOptions": {
        "customPlotOptions": {},
        "displayType": "table",
        "pivotAggregation": null,
        "pivotColumns": null,
        "xColumns": null,
        "yColumns": null
       },
       "removedWidgets": [],
       "schema": [
        {
         "metadata": "{}",
         "name": "num_affected_rows",
         "type": "\"long\""
        },
        {
         "metadata": "{}",
         "name": "num_inserted_rows",
         "type": "\"long\""
        }
       ],
       "type": "table"
      }
     },
     "output_type": "display_data"
    }
   ],
   "source": [
    "%sql\n",
    "-- Crie uma tabela que tenha o resultado do join entre order, order item, pagamentos e cliente chame a tabela de vendas_ecommerce, mantenha só os principais campos e traduza os nomes para portugues\n",
    "create or replace table jsf_catalog.ecommerce.vendas_silver\n",
    "as\n",
    "    SELECT \n",
    "        o.order_id AS id_pedido,\n",
    "        o.order_purchase_timestamp AS data_compra,\n",
    "        o.order_approved_at AS data_aprovacao,\n",
    "        o.order_delivered_carrier_date AS data_entrega_transportadora,\n",
    "        o.order_delivered_customer_date AS data_entrega_cliente,\n",
    "        o.order_estimated_delivery_date AS data_entrega_estimada,\n",
    "        oi.order_item_id AS id_item_pedido,\n",
    "        oi.product_id AS id_produto,\n",
    "        oi.seller_id AS id_vendedor,\n",
    "        oi.price AS preco,\n",
    "        oi.freight_value AS valor_frete,\n",
    "        p.payment_type AS tipo_pagamento,\n",
    "        p.payment_installments AS parcelas,\n",
    "        c.customer_id AS id_cliente,\n",
    "        c.customer_unique_id AS id_cliente_unico,\n",
    "        c.customer_zip_code_prefix AS cep_cliente,\n",
    "        c.customer_city AS cidade_cliente,\n",
    "        c.customer_state AS estado_cliente,\n",
    "        rev.review_score AS nota_cliente\n",
    "\n",
    "    FROM jsf_catalog.ecommerce.orders_bronze AS o\n",
    "    JOIN jsf_catalog.ecommerce.order_items_bronze AS oi \n",
    "        ON o.order_id = oi.order_id\n",
    "    JOIN jsf_catalog.ecommerce.order_payments_bronze AS p \n",
    "        ON o.order_id = p.order_id\n",
    "    JOIN jsf_catalog.ecommerce.customers_bronze AS c \n",
    "        ON o.customer_id = c.customer_id\n",
    "    JOIN jsf_catalog.ecommerce.order_reviews_bronze rev\n",
    "        ON o.order_id = rev.order_id\n"
   ]
  }
 ],
 "metadata": {
  "application/vnd.databricks.v1+notebook": {
   "dashboards": [],
   "environmentMetadata": null,
   "language": "python",
   "notebookMetadata": {
    "mostRecentlyExecutedCommandWithImplicitDF": {
     "commandId": 648780469206839,
     "dataframes": [
      "_sqldf"
     ]
    },
    "pythonIndentUnit": 2
   },
   "notebookName": "DemoEcommerce",
   "widgets": {}
  }
 },
 "nbformat": 4,
 "nbformat_minor": 0
}
