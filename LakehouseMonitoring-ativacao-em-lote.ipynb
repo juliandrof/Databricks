{
 "cells": [
  {
   "cell_type": "markdown",
   "metadata": {
    "application/vnd.databricks.v1+cell": {
     "cellMetadata": {
      "byteLimit": 2048000,
      "rowLimit": 10000
     },
     "inputWidgets": {},
     "nuid": "2927fccd-fbd2-45c7-902f-9744eb0b901b",
     "showTitle": false,
     "tableResultSettingsMap": {},
     "title": ""
    }
   },
   "source": [
    "## Para executar este notebook, você precisará ter as seguintes permissões: \n",
    "- ### CREATE CATALOG\n",
    "- ### CREATE SCHEMA \n",
    "- ### CREATE TABLE"
   ]
  },
  {
   "cell_type": "code",
   "execution_count": 0,
   "metadata": {
    "application/vnd.databricks.v1+cell": {
     "cellMetadata": {
      "byteLimit": 2048000,
      "rowLimit": 10000
     },
     "inputWidgets": {},
     "nuid": "32b641b5-8e38-4233-8a41-4442a1e11689",
     "showTitle": true,
     "tableResultSettingsMap": {},
     "title": "Databricks SDK Installation"
    }
   },
   "outputs": [
    {
     "output_type": "stream",
     "name": "stdout",
     "output_type": "stream",
     "text": [
      "Requirement already satisfied: databricks-sdk>=0.28.0 in /local_disk0/.ephemeral_nfs/envs/pythonEnv-c416cd57-af52-4578-8752-5e80ea6c17a9/lib/python3.12/site-packages (0.38.0)\nRequirement already satisfied: requests<3,>=2.28.1 in /databricks/python3/lib/python3.12/site-packages (from databricks-sdk>=0.28.0) (2.32.2)\nRequirement already satisfied: google-auth~=2.0 in /databricks/python3/lib/python3.12/site-packages (from databricks-sdk>=0.28.0) (2.35.0)\nRequirement already satisfied: cachetools<6.0,>=2.0.0 in /databricks/python3/lib/python3.12/site-packages (from google-auth~=2.0->databricks-sdk>=0.28.0) (5.3.3)\nRequirement already satisfied: pyasn1-modules>=0.2.1 in /databricks/python3/lib/python3.12/site-packages (from google-auth~=2.0->databricks-sdk>=0.28.0) (0.2.8)\nRequirement already satisfied: rsa<5,>=3.1.4 in /databricks/python3/lib/python3.12/site-packages (from google-auth~=2.0->databricks-sdk>=0.28.0) (4.9)\nRequirement already satisfied: charset-normalizer<4,>=2 in /databricks/python3/lib/python3.12/site-packages (from requests<3,>=2.28.1->databricks-sdk>=0.28.0) (2.0.4)\nRequirement already satisfied: idna<4,>=2.5 in /databricks/python3/lib/python3.12/site-packages (from requests<3,>=2.28.1->databricks-sdk>=0.28.0) (3.7)\nRequirement already satisfied: urllib3<3,>=1.21.1 in /databricks/python3/lib/python3.12/site-packages (from requests<3,>=2.28.1->databricks-sdk>=0.28.0) (1.26.16)\nRequirement already satisfied: certifi>=2017.4.17 in /databricks/python3/lib/python3.12/site-packages (from requests<3,>=2.28.1->databricks-sdk>=0.28.0) (2024.6.2)\nRequirement already satisfied: pyasn1<0.5.0,>=0.4.6 in /databricks/python3/lib/python3.12/site-packages (from pyasn1-modules>=0.2.1->google-auth~=2.0->databricks-sdk>=0.28.0) (0.4.8)\n\u001B[43mNote: you may need to restart the kernel using %restart_python or dbutils.library.restartPython() to use updated packages.\u001B[0m\n"
     ]
    }
   ],
   "source": [
    "%pip install \"databricks-sdk>=0.28.0\"\n"
   ]
  },
  {
   "cell_type": "code",
   "execution_count": 0,
   "metadata": {
    "application/vnd.databricks.v1+cell": {
     "cellMetadata": {
      "byteLimit": 2048000,
      "rowLimit": 10000
     },
     "inputWidgets": {},
     "nuid": "0cfabedc-092a-4df0-9f34-2a2b4c09db54",
     "showTitle": true,
     "tableResultSettingsMap": {},
     "title": "Restart Python Library"
    }
   },
   "outputs": [],
   "source": [
    "dbutils.library.restartPython()"
   ]
  },
  {
   "cell_type": "code",
   "execution_count": 0,
   "metadata": {
    "application/vnd.databricks.v1+cell": {
     "cellMetadata": {
      "byteLimit": 2048000,
      "rowLimit": 10000
     },
     "inputWidgets": {},
     "nuid": "d80536ca-62c8-484f-bf33-c1c72022c9b9",
     "showTitle": true,
     "tableResultSettingsMap": {},
     "title": "Databricks SDK Workspace Monitoring"
    }
   },
   "outputs": [],
   "source": [
    "from databricks.sdk import WorkspaceClient\n",
    "from databricks.sdk.service.catalog import MonitorSnapshot,MonitorCronSchedule\n",
    "import time"
   ]
  },
  {
   "cell_type": "code",
   "execution_count": 0,
   "metadata": {
    "application/vnd.databricks.v1+cell": {
     "cellMetadata": {
      "byteLimit": 2048000,
      "rowLimit": 10000
     },
     "inputWidgets": {},
     "nuid": "e78ee5e1-866c-45d0-b896-e32e5428f520",
     "showTitle": true,
     "tableResultSettingsMap": {},
     "title": "Create Lakehouse Monitoring"
    }
   },
   "outputs": [],
   "source": [
    "def set_monitoring(catalog,schema,user_email,output_catalog,cron,flg):\n",
    "  df = spark.read.table(f\"{catalog}.information_schema.tables\").filter(\"table_type = 'MANAGED' OR table_type = 'EXTERNAL'\").select('table_schema','table_name')\n",
    "  for row in df.filter(df.table_schema == schema).collect():\n",
    "    table_name = row.table_name\n",
    "    w = WorkspaceClient()\n",
    "    if flg == 'S':\n",
    "      try:\n",
    "        w.quality_monitors.delete(table_name=f\"{catalog}.{schema}.{table_name}\")\n",
    "        print(f\"Monitoramento excluido com sucesso! Tabela : {table_name}\")\n",
    "      except Exception as e:\n",
    "        print(f\"Monitoramento não excluido! Tabela : {table_name} -> Motivo:{str(e)}\")\n",
    "    try:\n",
    "      w.quality_monitors.create(\n",
    "        table_name=f\"{catalog}.{schema}.{table_name}\",\n",
    "        assets_dir=f\"/Workspace/Users/{user_email}/databricks_lakehouse_monitoring/{catalog}.{schema}.{table_name}\",\n",
    "        output_schema_name=f\"{output_catalog}.{schema}\",\n",
    "        snapshot=MonitorSnapshot(),\n",
    "        schedule=MonitorCronSchedule(\n",
    "          quartz_cron_expression=cron, # todos os dias 9:30, para alterar a frequencia altera a cron_expression\n",
    "          timezone_id=\"America/Sao_Paulo\")\n",
    "      )\n",
    "      print(f\"Monitoramento criado com sucesso! Tabela : {row.table_name}\")\n",
    "      time.sleep(15)\n",
    "    except Exception as e:\n",
    "      print(f\"Motironado não criado! Tabela : {table_name} -> Motivo: {str(e)}\")"
   ]
  },
  {
   "cell_type": "code",
   "execution_count": 0,
   "metadata": {
    "application/vnd.databricks.v1+cell": {
     "cellMetadata": {
      "byteLimit": 2048000,
      "rowLimit": 10000
     },
     "inputWidgets": {},
     "nuid": "a575f1f3-583a-4321-9759-98adcb3de29d",
     "showTitle": true,
     "tableResultSettingsMap": {},
     "title": "Creating Monitoring System"
    }
   },
   "outputs": [],
   "source": [
    "def create_monitoring():\n",
    "    print(\"Vamos definir os parâmetros para criação do monitoramento\")\n",
    "\n",
    "    catalog = input(\"Digite o nome do catálogo onde estão suas tabelas que serão monitoradas\")\n",
    "    schema = input(\"Digite o nome do schema onde estão suas tabelas\")\n",
    "    user_email = dbutils.notebook.entry_point.getDbutils().notebook\n",
    "    flg = input(\"Você deseja deletar os monitoramentos existentes antes da criação dos novos? (S/N)\")\n",
    "    print(\"Como uma boa prática, vamos criar um catálogo exclusivo para salvar os dados do monitoramento\")\n",
    "    time.sleep(3)\n",
    "    print(\"Dentro deste catálogo, teremos os schemas com o mesmo nome do schema da tabela a ser monitorada\")\n",
    "    time.sleep(3)\n",
    "    output_catalog=input(\"Digite o nome do catálogo onde deseja salvar os dados do monitoramento (se não existir, ele será criado)\")\n",
    "   \n",
    "    print(\"Agora, vamos criar o agendamento do monitoramento\")\n",
    "    day_of_month = input(\"Caso a execução seja mensal, digite o dia do mês(1-31) caso contrário digite ?): \")\n",
    "    day_of_week = input(\"Para semanal, digite o dia da semana (0-6, 0=Domingo, * para diário): \")\n",
    "    hour = input(\"Hora da execução (0-23)): \")\n",
    "    minute = input(\"Minuto de início da execução (0-59): \")\n",
    "    day_of_week_map = {\n",
    "        '0': 'SUN',\n",
    "        '1': 'MON',\n",
    "        '2': 'TUE',\n",
    "        '3': 'WED',\n",
    "        '4': 'THU',\n",
    "        '5': 'FRI',\n",
    "        '6': 'SAT',\n",
    "        '*': '*'\n",
    "    }\n",
    "    day_of_week = day_of_week_map.get(day_of_week, '*')\n",
    "    month = '*'\n",
    "    cron_expression = f\"0 {minute} {hour} {day_of_month} {month} {day_of_week}\"\n",
    "    spark.sql(f\"CREATE CATALOG IF NOT EXISTS {output_catalog}\")\n",
    "    spark.sql(f\"CREATE SCHEMA IF NOT EXISTS {output_catalog}.{schema}\")\n",
    "    set_monitoring(catalog,schema,user_email,output_catalog,cron_expression,flg)"
   ]
  },
  {
   "cell_type": "code",
   "execution_count": 0,
   "metadata": {
    "application/vnd.databricks.v1+cell": {
     "cellMetadata": {
      "byteLimit": 2048000,
      "rowLimit": 10000
     },
     "inputWidgets": {},
     "nuid": "8d4fed91-d323-4f16-969c-a9f61d83f4ac",
     "showTitle": true,
     "tableResultSettingsMap": {},
     "title": "Create Monitor in Monitoring PRD"
    }
   },
   "outputs": [
    {
     "output_type": "stream",
     "name": "stdout",
     "output_type": "stream",
     "text": [
      "Vamos definir os parâmetros para criação do monitoramento\n"
     ]
    },
    {
     "output_type": "display_data",
     "data": {
      "text/plain": [
       "Digite o nome do catálogo onde estão suas tabelas que serão monitoradas jsf_catalog"
      ]
     },
     "metadata": {},
     "output_type": "display_data"
    },
    {
     "output_type": "display_data",
     "data": {
      "text/plain": [
       "Digite o nome do schema onde estão suas tabelas ecommerce"
      ]
     },
     "metadata": {},
     "output_type": "display_data"
    },
    {
     "output_type": "display_data",
     "data": {
      "text/plain": [
       "Você deseja deletar os monitoramentos existentes antes da criação dos novos? (S/N) S"
      ]
     },
     "metadata": {},
     "output_type": "display_data"
    },
    {
     "output_type": "stream",
     "name": "stdout",
     "output_type": "stream",
     "text": [
      "Como uma boa prática, vamos criar um catálogo exclusivo para salvar os dados do monitoramento\nDentro deste catálogo, teremos os schemas com o mesmo nome do schema da tabela a ser monitorada\n"
     ]
    },
    {
     "output_type": "display_data",
     "data": {
      "text/plain": [
       "Digite o nome do catálogo onde deseja salvar os dados do monitoramento (se não existir, ele será criado) jsf_monitoring"
      ]
     },
     "metadata": {},
     "output_type": "display_data"
    },
    {
     "output_type": "stream",
     "name": "stdout",
     "output_type": "stream",
     "text": [
      "Agora, vamos criar o agendamento do monitoramento\n"
     ]
    },
    {
     "output_type": "display_data",
     "data": {
      "text/plain": [
       "Caso a execução seja mensal, digite o dia do mês(1-31) caso contrário digite ?):  ?"
      ]
     },
     "metadata": {},
     "output_type": "display_data"
    },
    {
     "output_type": "display_data",
     "data": {
      "text/plain": [
       "Para semanal, digite o dia da semana (0-6, 0=Domingo, * para diário):  0"
      ]
     },
     "metadata": {},
     "output_type": "display_data"
    },
    {
     "output_type": "display_data",
     "data": {
      "text/plain": [
       "Hora da execução (0-23)):  0"
      ]
     },
     "metadata": {},
     "output_type": "display_data"
    },
    {
     "output_type": "display_data",
     "data": {
      "text/plain": [
       "Minuto de início da execução (0-59):  0"
      ]
     },
     "metadata": {},
     "output_type": "display_data"
    },
    {
     "output_type": "stream",
     "name": "stdout",
     "output_type": "stream",
     "text": [
      "Monitoramento não excluido! Tabela : order_payments_bronze -> Motivo:Data Monitor 'jsf_catalog.ecommerce.order_payments_bronze' does not exist.\nMotironado não criado! Tabela : order_payments_bronze -> Motivo: Cannot create 1 Data Monitor(s) in Metastore b169b504-4c54-49f2-bc3a-adf4b128f36d (estimated count: 1000, limit: 1000).\nMonitoramento não excluido! Tabela : geolocation_bronze -> Motivo:Data Monitor 'jsf_catalog.ecommerce.geolocation_bronze' does not exist.\nMotironado não criado! Tabela : geolocation_bronze -> Motivo: Cannot create 1 Data Monitor(s) in Metastore b169b504-4c54-49f2-bc3a-adf4b128f36d (estimated count: 1000, limit: 1000).\nMonitoramento não excluido! Tabela : products_bronze -> Motivo:Data Monitor 'jsf_catalog.ecommerce.products_bronze' does not exist.\nMotironado não criado! Tabela : products_bronze -> Motivo: Cannot create 1 Data Monitor(s) in Metastore b169b504-4c54-49f2-bc3a-adf4b128f36d (estimated count: 1000, limit: 1000).\nMonitoramento não excluido! Tabela : vendas_gold -> Motivo:Data Monitor 'jsf_catalog.ecommerce.vendas_gold' does not exist.\nMotironado não criado! Tabela : vendas_gold -> Motivo: Cannot create 1 Data Monitor(s) in Metastore b169b504-4c54-49f2-bc3a-adf4b128f36d (estimated count: 1000, limit: 1000).\nMonitoramento não excluido! Tabela : product_category_name_translation -> Motivo:Data Monitor 'jsf_catalog.ecommerce.product_category_name_translation' does not exist.\nMotironado não criado! Tabela : product_category_name_translation -> Motivo: Cannot create 1 Data Monitor(s) in Metastore b169b504-4c54-49f2-bc3a-adf4b128f36d (estimated count: 1000, limit: 1000).\nMonitoramento não excluido! Tabela : orders_bronze -> Motivo:Data Monitor 'jsf_catalog.ecommerce.orders_bronze' does not exist.\nMotironado não criado! Tabela : orders_bronze -> Motivo: Cannot create 1 Data Monitor(s) in Metastore b169b504-4c54-49f2-bc3a-adf4b128f36d (estimated count: 1000, limit: 1000).\nMonitoramento não excluido! Tabela : order_items_bronze -> Motivo:Data Monitor 'jsf_catalog.ecommerce.order_items_bronze' does not exist.\nMotironado não criado! Tabela : order_items_bronze -> Motivo: Cannot create 1 Data Monitor(s) in Metastore b169b504-4c54-49f2-bc3a-adf4b128f36d (estimated count: 1000, limit: 1000).\nMonitoramento não excluido! Tabela : order_reviews_bronze -> Motivo:Data Monitor 'jsf_catalog.ecommerce.order_reviews_bronze' does not exist.\nMotironado não criado! Tabela : order_reviews_bronze -> Motivo: Cannot create 1 Data Monitor(s) in Metastore b169b504-4c54-49f2-bc3a-adf4b128f36d (estimated count: 1000, limit: 1000).\nMonitoramento não excluido! Tabela : pdf_table -> Motivo:Data Monitor 'jsf_catalog.ecommerce.pdf_table' does not exist.\nMotironado não criado! Tabela : pdf_table -> Motivo: Cannot create 1 Data Monitor(s) in Metastore b169b504-4c54-49f2-bc3a-adf4b128f36d (estimated count: 1000, limit: 1000).\nMonitoramento não excluido! Tabela : my_table -> Motivo:Data Monitor 'jsf_catalog.ecommerce.my_table' does not exist.\nMotironado não criado! Tabela : my_table -> Motivo: Cannot create 1 Data Monitor(s) in Metastore b169b504-4c54-49f2-bc3a-adf4b128f36d (estimated count: 1000, limit: 1000).\nMonitoramento não excluido! Tabela : vendas_silver -> Motivo:Data Monitor 'jsf_catalog.ecommerce.vendas_silver' does not exist.\nMotironado não criado! Tabela : vendas_silver -> Motivo: Cannot create 1 Data Monitor(s) in Metastore b169b504-4c54-49f2-bc3a-adf4b128f36d (estimated count: 1000, limit: 1000).\nMonitoramento não excluido! Tabela : customers_bronze -> Motivo:Data Monitor 'jsf_catalog.ecommerce.customers_bronze' does not exist.\nMotironado não criado! Tabela : customers_bronze -> Motivo: Cannot create 1 Data Monitor(s) in Metastore b169b504-4c54-49f2-bc3a-adf4b128f36d (estimated count: 1000, limit: 1000).\nMonitoramento não excluido! Tabela : sellers_bronze -> Motivo:Data Monitor 'jsf_catalog.ecommerce.sellers_bronze' does not exist.\nMotironado não criado! Tabela : sellers_bronze -> Motivo: Cannot create 1 Data Monitor(s) in Metastore b169b504-4c54-49f2-bc3a-adf4b128f36d (estimated count: 1000, limit: 1000).\n"
     ]
    }
   ],
   "source": [
    "create_monitoring()"
   ]
  }
 ],
 "metadata": {
  "application/vnd.databricks.v1+notebook": {
   "dashboards": [],
   "environmentMetadata": null,
   "language": "python",
   "notebookMetadata": {
    "pythonIndentUnit": 2
   },
   "notebookName": "LakehouseMonitoring-ativacao-em-lote",
   "widgets": {}
  },
  "language_info": {
   "name": "python"
  }
 },
 "nbformat": 4,
 "nbformat_minor": 0
}