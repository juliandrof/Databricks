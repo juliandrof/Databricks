{
 "cells": [
  {
   "cell_type": "markdown",
   "metadata": {
    "application/vnd.databricks.v1+cell": {
     "cellMetadata": {},
     "inputWidgets": {},
     "nuid": "c3cfdeef-7570-4901-96a1-39c70cd81d89",
     "showTitle": false,
     "tableResultSettingsMap": {},
     "title": ""
    }
   },
   "source": [
    "# Lab 01 - Engenharia de Dados com Databricks\n",
    "\n",
    "Neste laboratório, vamos ler um JSON público contendo dados sobre vacinação contra COVID-19 e transformá-lo, tornando-o apto para uso em BI, ML e IA."
   ]
  },
  {
   "cell_type": "markdown",
   "metadata": {
    "application/vnd.databricks.v1+cell": {
     "cellMetadata": {},
     "inputWidgets": {},
     "nuid": "b297708b-42f6-4d5c-ace7-d089e9ca0606",
     "showTitle": false,
     "tableResultSettingsMap": {},
     "title": ""
    }
   },
   "source": [
    "## 1 - O primeiro passo é criar um catálogo e um schema para receber nossas tabelas"
   ]
  },
  {
   "cell_type": "code",
   "execution_count": 0,
   "metadata": {
    "application/vnd.databricks.v1+cell": {
     "cellMetadata": {
      "byteLimit": 2048000,
      "implicitDf": true,
      "rowLimit": 10000
     },
     "inputWidgets": {},
     "nuid": "bf4d6d9f-195e-47c3-b556-5d82ce81cbaa",
     "showTitle": true,
     "tableResultSettingsMap": {},
     "title": "Initialize and Set Catalog for Databricks Session"
    }
   },
   "outputs": [],
   "source": [
    "%sql\n",
    "-- TO DO: ALTERE NO NOME DO SCHEMA PARA SUAS INICIAIS\n",
    "CREATE CATALOG IF NOT EXISTS databricks_day;\n",
    "CREATE SCHEMA IF NOT EXISTS  juliandro;"
   ]
  },
  {
   "cell_type": "markdown",
   "metadata": {
    "application/vnd.databricks.v1+cell": {
     "cellMetadata": {},
     "inputWidgets": {},
     "nuid": "401900fb-21cc-44c9-82af-79bf669b4a79",
     "showTitle": false,
     "tableResultSettingsMap": {},
     "title": ""
    }
   },
   "source": [
    "## 2 - Vamos usar a lib requests para chamar uma URL que nos devolverá um json com os dados que precisamos"
   ]
  },
  {
   "cell_type": "code",
   "execution_count": 0,
   "metadata": {
    "application/vnd.databricks.v1+cell": {
     "cellMetadata": {
      "byteLimit": 2048000,
      "rowLimit": 10000
     },
     "inputWidgets": {},
     "nuid": "26fb77f7-e3b4-48b4-865e-b358e38113c0",
     "showTitle": true,
     "tableResultSettingsMap": {},
     "title": "Download and Create Spark DataFrame from JSON"
    }
   },
   "outputs": [],
   "source": [
    "import requests\n",
    "\n",
    "# Baixar o arquivo JSON\n",
    "url = \"https://raw.githubusercontent.com/owid/covid-19-data/master/public/data/vaccinations/vaccinations.json\"\n",
    "response = requests.get(url)\n",
    "json_data = response.json()\n",
    "\n",
    "# Criar um DataFrame Spark a partir dos dados JSON usando createDataFrame\n",
    "df = spark.createDataFrame(json_data)"
   ]
  },
  {
   "cell_type": "code",
   "execution_count": 0,
   "metadata": {
    "application/vnd.databricks.v1+cell": {
     "cellMetadata": {
      "byteLimit": 2048000,
      "rowLimit": 10000
     },
     "inputWidgets": {},
     "nuid": "10ad6157-3824-454b-bb4b-d7ad0c0f5ae4",
     "showTitle": false,
     "tableResultSettingsMap": {},
     "title": ""
    }
   },
   "outputs": [],
   "source": [
    "#TO DO: Exiba a estrutura do Dataframe criado acima"
   ]
  },
  {
   "cell_type": "code",
   "execution_count": 0,
   "metadata": {
    "application/vnd.databricks.v1+cell": {
     "cellMetadata": {},
     "inputWidgets": {},
     "nuid": "a6b497b3-6eb5-4f79-ad43-1e80eacfd3c3",
     "showTitle": false,
     "tableResultSettingsMap": {},
     "title": ""
    }
   },
   "outputs": [],
   "source": [
    "# TO DO: Quantas linhas tem o df?"
   ]
  },
  {
   "cell_type": "code",
   "execution_count": 0,
   "metadata": {
    "application/vnd.databricks.v1+cell": {
     "cellMetadata": {
      "byteLimit": 2048000,
      "rowLimit": 10000
     },
     "inputWidgets": {},
     "nuid": "5359899c-ca93-4a5b-876e-6d40e6019a2b",
     "showTitle": true,
     "tableResultSettingsMap": {},
     "title": "Explode Data Array and Select Relevant Columns"
    }
   },
   "outputs": [],
   "source": [
    "from pyspark.sql.functions import explode, col\n",
    "\n",
    "# Explodir o array e criar novas colunas a partir dos campos do array\n",
    "df_exploded = df.withColumn(\"data\", explode(col(\"data\"))).select(col(\"country\"), col(\"iso_code\"), col(\"data\"))\n",
    "\n"
   ]
  },
  {
   "cell_type": "code",
   "execution_count": 0,
   "metadata": {
    "application/vnd.databricks.v1+cell": {
     "cellMetadata": {},
     "inputWidgets": {},
     "nuid": "e66e7aaa-b286-4dce-a46f-9096fdd7dd37",
     "showTitle": true,
     "tableResultSettingsMap": {},
     "title": "Count Rows in Exploded DataFrame"
    }
   },
   "outputs": [],
   "source": [
    "# TO DO:  Quantas linhas tem o df_exploded?"
   ]
  },
  {
   "cell_type": "markdown",
   "metadata": {
    "application/vnd.databricks.v1+cell": {
     "cellMetadata": {},
     "inputWidgets": {},
     "nuid": "e803ff0f-a532-4e40-a12b-65679a57b344",
     "showTitle": false,
     "tableResultSettingsMap": {},
     "title": ""
    }
   },
   "source": [
    "## 3 - Agora, vamos criar as tabelas bronze e silver"
   ]
  },
  {
   "cell_type": "code",
   "execution_count": 0,
   "metadata": {
    "application/vnd.databricks.v1+cell": {
     "cellMetadata": {
      "byteLimit": 2048000,
      "rowLimit": 10000
     },
     "inputWidgets": {},
     "nuid": "5efd9220-ed5b-493b-a319-81099485ae51",
     "showTitle": true,
     "tableResultSettingsMap": {},
     "title": "Generate Distinct Map Keys with Prefix"
    }
   },
   "outputs": [],
   "source": [
    "from pyspark.sql.functions import map_keys, explode, concat, lit\n",
    "\n",
    "# No df_exploded, crie um dataframe com todos os nomes distintos das keys do campo data. adicione como prefixo o literal \",data.\"\n",
    "keys_df = df_exploded.withColumn(\"keys\", map_keys(col(\"data\"))).select(explode(col(\"keys\")).alias(\"key\")).distinct()\n",
    "keys_df = keys_df.select(concat(lit(\",data.\"), col(\"key\")).alias(\"key_with_prefix\"))\n",
    "display(keys_df)"
   ]
  },
  {
   "cell_type": "code",
   "execution_count": 0,
   "metadata": {
    "application/vnd.databricks.v1+cell": {
     "cellMetadata": {
      "byteLimit": 2048000,
      "implicitDf": true,
      "rowLimit": 10000
     },
     "inputWidgets": {},
     "nuid": "2db7dd76-b25d-421e-8200-7a824674a76f",
     "showTitle": true,
     "tableResultSettingsMap": {},
     "title": "Delete Existing Vaccinations Bronze Table"
    }
   },
   "outputs": [],
   "source": [
    "%sql\n",
    "--DROP TABLE IF EXISTS databricks_day.juliandro.vaccinations_bronze;"
   ]
  },
  {
   "cell_type": "code",
   "execution_count": 0,
   "metadata": {
    "application/vnd.databricks.v1+cell": {
     "cellMetadata": {
      "byteLimit": 2048000,
      "rowLimit": 10000
     },
     "inputWidgets": {},
     "nuid": "33d678d0-a655-4b45-af22-2d58a988d695",
     "showTitle": true,
     "tableResultSettingsMap": {},
     "title": "Save Exploded DataFrame to Vaccinations Bronze Table"
    }
   },
   "outputs": [],
   "source": [
    "# TO DO: Altere o nome do schema da tabela para \"databricks_day.juliandro.vaccinations_bronze\"\n",
    "\n",
    "df_exploded.write.mode(\"overwrite\").saveAsTable(\"databricks_day.juliandro.vaccinations_bronze\")"
   ]
  },
  {
   "cell_type": "code",
   "execution_count": 0,
   "metadata": {
    "application/vnd.databricks.v1+cell": {
     "cellMetadata": {
      "byteLimit": 2048000,
      "implicitDf": true,
      "rowLimit": 10000
     },
     "inputWidgets": {},
     "nuid": "0fc88f20-ff2c-4e0f-880e-fb3ab42a46a6",
     "showTitle": true,
     "tableResultSettingsMap": {},
     "title": "Select and Cast Vaccination Data Columns"
    }
   },
   "outputs": [],
   "source": [
    "%sql\n",
    "-- TO DO: Altere o schema da tabela abaixo e crie a tabela vaccinations_silver com o resultado da query\n",
    "SELECT\n",
    "country,\n",
    "iso_code,\n",
    "CAST(data.date AS DATE) AS date,\n",
    "CAST(data.daily_people_vaccinated AS BIGINT) AS daily_people_vaccinated,\n",
    "CAST(data.daily_people_vaccinated_per_hundred AS DOUBLE) AS daily_people_vaccinated_per_hundred,\n",
    "CAST(data.daily_vaccinations_per_million AS BIGINT) AS daily_vaccinations_per_million,\n",
    "CAST(data.daily_vaccinations AS BIGINT) AS daily_vaccinations,\n",
    "CAST(data.daily_vaccinations_raw AS BIGINT) AS daily_vaccinations_raw,\n",
    "CAST(data.people_vaccinated AS BIGINT) AS people_vaccinated,\n",
    "CAST(data.people_vaccinated_per_hundred AS DOUBLE) AS people_vaccinated_per_hundred,\n",
    "CAST(data.people_fully_vaccinated_per_hundred AS DOUBLE) AS people_fully_vaccinated_per_hundred,\n",
    "CAST(data.people_fully_vaccinated AS BIGINT) AS people_fully_vaccinated,\n",
    "CAST(data.total_vaccinations_per_hundred AS DOUBLE) AS total_vaccinations_per_hundred,\n",
    "CAST(data.total_vaccinations AS BIGINT) AS total_vaccinations,\n",
    "CAST(data.total_boosters AS BIGINT) AS total_boosters,\n",
    "CAST(data.total_boosters_per_hundred AS DOUBLE) AS total_boosters_per_hundred\n",
    "FROM databricks_day.juliandro.vaccinations_bronze"
   ]
  },
  {
   "cell_type": "markdown",
   "metadata": {
    "application/vnd.databricks.v1+cell": {
     "cellMetadata": {},
     "inputWidgets": {},
     "nuid": "43cdd084-a97f-42e1-bc4a-e3135c109cb8",
     "showTitle": false,
     "tableResultSettingsMap": {},
     "title": ""
    }
   },
   "source": [
    "## 4 - Vamos criar as tabelas gold que serão utilizadas no próximo Lab"
   ]
  },
  {
   "cell_type": "code",
   "execution_count": 0,
   "metadata": {
    "application/vnd.databricks.v1+cell": {
     "cellMetadata": {
      "byteLimit": 2048000,
      "implicitDf": true,
      "rowLimit": 10000
     },
     "inputWidgets": {},
     "nuid": "4b177c38-b920-47cc-96c3-d0dd234f114d",
     "showTitle": false,
     "tableResultSettingsMap": {},
     "title": ""
    }
   },
   "outputs": [],
   "source": [
    "%sql\n",
    "-- TO DO: Crie uma tabela gold chamada vaccinations_countries_gold que tenha somente países´. Dica: quando é um país, o iso_code tem 3 letras\n",
    "\n"
   ]
  },
  {
   "cell_type": "code",
   "execution_count": 0,
   "metadata": {
    "application/vnd.databricks.v1+cell": {
     "cellMetadata": {},
     "inputWidgets": {},
     "nuid": "37f6e889-7a2d-40d0-804b-13c03e58bb82",
     "showTitle": false,
     "tableResultSettingsMap": {},
     "title": ""
    }
   },
   "outputs": [],
   "source": [
    "%sql\n",
    "-- TO DO: A partir da silver, crie uma tabela gold chamada vaccinations_income_level_gold com os demais registros. Dica: quando NÃO é um país, o iso_code tem mais que 3 letras."
   ]
  },
  {
   "cell_type": "code",
   "execution_count": 0,
   "metadata": {
    "application/vnd.databricks.v1+cell": {
     "cellMetadata": {},
     "inputWidgets": {},
     "nuid": "4ea91364-21ca-4865-8090-8bb4da5285f3",
     "showTitle": false,
     "tableResultSettingsMap": {},
     "title": ""
    }
   },
   "outputs": [],
   "source": [
    "%sql\n",
    "-- TO DO: Delete da tabela vaccinations_income_level_gold os registros não relacioanados a renda,"
   ]
  },
  {
   "cell_type": "markdown",
   "metadata": {
    "application/vnd.databricks.v1+cell": {
     "cellMetadata": {},
     "inputWidgets": {},
     "nuid": "9bd43a9b-68c4-4945-8a0a-36ad021ae0c1",
     "showTitle": false,
     "tableResultSettingsMap": {},
     "title": ""
    }
   },
   "source": [
    "## 5 - Vamos enriquecer nossos dados a partir de um csv com o detalhe das vacinas que foram disponibilizadas para cada país"
   ]
  },
  {
   "cell_type": "code",
   "execution_count": 0,
   "metadata": {
    "application/vnd.databricks.v1+cell": {
     "cellMetadata": {
      "byteLimit": 2048000,
      "rowLimit": 10000
     },
     "inputWidgets": {},
     "nuid": "b4b3ce2c-84c4-4ea4-8b30-41d1f710a9d3",
     "showTitle": false,
     "tableResultSettingsMap": {},
     "title": ""
    }
   },
   "outputs": [],
   "source": [
    "import requests\n",
    "\n",
    "# Baixar o conteúdo do CSV\n",
    "url = \"https://raw.githubusercontent.com/owid/covid-19-data/master/public/data/vaccinations/locations.csv\"\n",
    "response = requests.get(url)\n",
    "csv_content = response.text\n",
    "\n",
    "# Converter para DataFrame Spark\n",
    "import pandas as pd\n",
    "from io import StringIO\n",
    "\n",
    "pdf = pd.read_csv(StringIO(csv_content))\n",
    "spark_df = spark.createDataFrame(pdf)\n",
    "\n",
    "# Mostrar o DataFrame\n",
    "display(spark_df)"
   ]
  },
  {
   "cell_type": "markdown",
   "metadata": {
    "application/vnd.databricks.v1+cell": {
     "cellMetadata": {},
     "inputWidgets": {},
     "nuid": "57c04d0b-4b22-4114-9578-a01ba3a22208",
     "showTitle": false,
     "tableResultSettingsMap": {},
     "title": ""
    }
   },
   "source": [
    "## 6 - Para as tabelas com detalhes das vacinas, vamos criar usando a inteligência artificial.\n",
    "\n",
    "\n",
    "***Use os promps abaixo***"
   ]
  },
  {
   "cell_type": "code",
   "execution_count": 0,
   "metadata": {
    "application/vnd.databricks.v1+cell": {
     "cellMetadata": {},
     "inputWidgets": {},
     "nuid": "934fc4a8-9e96-47cb-88e5-f6ee1d9d05fb",
     "showTitle": false,
     "tableResultSettingsMap": {},
     "title": ""
    }
   },
   "outputs": [],
   "source": [
    "# TO DO: execute cada prompt abaixo em uma célula"
   ]
  },
  {
   "cell_type": "code",
   "execution_count": 0,
   "metadata": {
    "application/vnd.databricks.v1+cell": {
     "cellMetadata": {},
     "inputWidgets": {},
     "nuid": "d952883d-55ba-47a5-9ca8-3591582d5b0f",
     "showTitle": true,
     "tableResultSettingsMap": {},
     "title": "Create Bronze, Silver, and Gold Vaccine Tables"
    }
   },
   "outputs": [],
   "source": [
    "# Prompt 1: Crie uma tabela chamada vaccines_bronze com o resultado do spark_df\n",
    "# Prompt 2: Com base na tabela databricks_day.juliandro.vaccines_bronze, crie a databricks_day.juliandro.vaccines_silver fazendo o split da coluna vaccines pelo caractere \",\". Cada vacina deve ser uma linha nova. Mantenha somente os campos location (renomeando para country), iso_code e vaccines\n",
    "# Prompt 3: Com base na silver, crie uma tabela gold chamada databricks_day.juliandro.vaccines_gold com os campos iso_code e qtd_vaccines que será o resultado da contagem de vacinas de cada país"
   ]
  },
  {
   "cell_type": "code",
   "execution_count": 0,
   "metadata": {
    "application/vnd.databricks.v1+cell": {
     "cellMetadata": {},
     "inputWidgets": {},
     "nuid": "5449c7e0-bcf2-477c-b873-f75c31408b69",
     "showTitle": false,
     "tableResultSettingsMap": {},
     "title": ""
    }
   },
   "outputs": [],
   "source": [
    "%sql\n",
    "-- TO DO: Utilizando SQL, delete das tabelas databricks_day.juliandro.vaccines_silver e databricks_day.juliandro.vaccines_gold os registros que o iso_code tenha mais de 3 letras"
   ]
  },
  {
   "cell_type": "markdown",
   "metadata": {
    "application/vnd.databricks.v1+cell": {
     "cellMetadata": {},
     "inputWidgets": {},
     "nuid": "6ecd65f0-84eb-4b8c-800c-7e1b1d34d746",
     "showTitle": false,
     "tableResultSettingsMap": {},
     "title": ""
    }
   },
   "source": [
    "## 7 - Navegue pelo catálogo, gere descrição para as colunas, analise a linhagem de dados"
   ]
  }
 ],
 "metadata": {
  "application/vnd.databricks.v1+notebook": {
   "computePreferences": null,
   "dashboards": [],
   "environmentMetadata": {
    "base_environment": "",
    "environment_version": "2"
   },
   "inputWidgetPreferences": null,
   "language": "python",
   "notebookMetadata": {
    "mostRecentlyExecutedCommandWithImplicitDF": {
     "commandId": 2266247120206325,
     "dataframes": [
      "_sqldf"
     ]
    },
    "pythonIndentUnit": 2
   },
   "notebookName": "Lab 01",
   "widgets": {}
  },
  "language_info": {
   "name": "python"
  }
 },
 "nbformat": 4,
 "nbformat_minor": 0
}
